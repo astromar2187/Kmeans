{
  "nbformat": 4,
  "nbformat_minor": 0,
  "metadata": {
    "colab": {
      "provenance": [],
      "toc_visible": true,
      "authorship_tag": "ABX9TyN3szUFoVzzfwXRv5NlloU/",
      "include_colab_link": true
    },
    "kernelspec": {
      "name": "python3",
      "display_name": "Python 3"
    },
    "language_info": {
      "name": "python"
    }
  },
  "cells": [
    {
      "cell_type": "markdown",
      "metadata": {
        "id": "view-in-github",
        "colab_type": "text"
      },
      "source": [
        "<a href=\"https://colab.research.google.com/github/astromar2187/Kmeans/blob/KMeansV2_8dados_distManhattan_K3/KMeansV2_8dados_distManhattan_K3.ipynb\" target=\"_parent\"><img src=\"https://colab.research.google.com/assets/colab-badge.svg\" alt=\"Open In Colab\"/></a>"
      ]
    },
    {
      "cell_type": "markdown",
      "source": [
        "Importando as bibliotecas:"
      ],
      "metadata": {
        "id": "jKCb4kzllE7V"
      }
    },
    {
      "cell_type": "code",
      "execution_count": null,
      "metadata": {
        "id": "ylI0C-IXkgPC"
      },
      "outputs": [],
      "source": [
        "import pandas as pd\n",
        "import random\n",
        "import numpy as np\n",
        "import seaborn as sns\n",
        "sns.set_theme(style=\"darkgrid\")\n",
        "import matplotlib.pyplot as plt\n",
        "import plotly.express as px"
      ]
    },
    {
      "cell_type": "markdown",
      "source": [
        "Criando o dataframe Pontos, com quatro colunas, uma referente a posição desse ponto no eixo X e outra referente a posição no eixo Y; também uma que armazene dados tipo booleano que indicará se o ponto é centróide ou não; por ultimo, uma coluna com dados indicando a qual cluster o ponto pertence:"
      ],
      "metadata": {
        "id": "ay4NE2t336bo"
      }
    },
    {
      "cell_type": "code",
      "source": [
        "pontos = {'cord_x':[2,2,8,5,7,6,1,4], \n",
        "          'cord_y':[10,5,4,8,5,4,2,9], \n",
        "          'is_centrd':[True,False,False,True,False,False,True,False],\n",
        "          'cluster':[0,2,1,1,1,1,2,1]}\n",
        "df = pd.DataFrame(pontos)\n",
        "df"
      ],
      "metadata": {
        "id": "OpgJ2FYY34u0",
        "colab": {
          "base_uri": "https://localhost:8080/",
          "height": 300
        },
        "outputId": "9ef6d3ca-43aa-41f6-9a9e-7574567f64be"
      },
      "execution_count": null,
      "outputs": [
        {
          "output_type": "execute_result",
          "data": {
            "text/plain": [
              "   cord_x  cord_y  is_centrd  cluster\n",
              "0       2      10       True        0\n",
              "1       2       5      False        2\n",
              "2       8       4      False        1\n",
              "3       5       8       True        1\n",
              "4       7       5      False        1\n",
              "5       6       4      False        1\n",
              "6       1       2       True        2\n",
              "7       4       9      False        1"
            ],
            "text/html": [
              "\n",
              "  <div id=\"df-05e605c1-b1e6-42c8-8d5c-624a56fb6bff\">\n",
              "    <div class=\"colab-df-container\">\n",
              "      <div>\n",
              "<style scoped>\n",
              "    .dataframe tbody tr th:only-of-type {\n",
              "        vertical-align: middle;\n",
              "    }\n",
              "\n",
              "    .dataframe tbody tr th {\n",
              "        vertical-align: top;\n",
              "    }\n",
              "\n",
              "    .dataframe thead th {\n",
              "        text-align: right;\n",
              "    }\n",
              "</style>\n",
              "<table border=\"1\" class=\"dataframe\">\n",
              "  <thead>\n",
              "    <tr style=\"text-align: right;\">\n",
              "      <th></th>\n",
              "      <th>cord_x</th>\n",
              "      <th>cord_y</th>\n",
              "      <th>is_centrd</th>\n",
              "      <th>cluster</th>\n",
              "    </tr>\n",
              "  </thead>\n",
              "  <tbody>\n",
              "    <tr>\n",
              "      <th>0</th>\n",
              "      <td>2</td>\n",
              "      <td>10</td>\n",
              "      <td>True</td>\n",
              "      <td>0</td>\n",
              "    </tr>\n",
              "    <tr>\n",
              "      <th>1</th>\n",
              "      <td>2</td>\n",
              "      <td>5</td>\n",
              "      <td>False</td>\n",
              "      <td>2</td>\n",
              "    </tr>\n",
              "    <tr>\n",
              "      <th>2</th>\n",
              "      <td>8</td>\n",
              "      <td>4</td>\n",
              "      <td>False</td>\n",
              "      <td>1</td>\n",
              "    </tr>\n",
              "    <tr>\n",
              "      <th>3</th>\n",
              "      <td>5</td>\n",
              "      <td>8</td>\n",
              "      <td>True</td>\n",
              "      <td>1</td>\n",
              "    </tr>\n",
              "    <tr>\n",
              "      <th>4</th>\n",
              "      <td>7</td>\n",
              "      <td>5</td>\n",
              "      <td>False</td>\n",
              "      <td>1</td>\n",
              "    </tr>\n",
              "    <tr>\n",
              "      <th>5</th>\n",
              "      <td>6</td>\n",
              "      <td>4</td>\n",
              "      <td>False</td>\n",
              "      <td>1</td>\n",
              "    </tr>\n",
              "    <tr>\n",
              "      <th>6</th>\n",
              "      <td>1</td>\n",
              "      <td>2</td>\n",
              "      <td>True</td>\n",
              "      <td>2</td>\n",
              "    </tr>\n",
              "    <tr>\n",
              "      <th>7</th>\n",
              "      <td>4</td>\n",
              "      <td>9</td>\n",
              "      <td>False</td>\n",
              "      <td>1</td>\n",
              "    </tr>\n",
              "  </tbody>\n",
              "</table>\n",
              "</div>\n",
              "      <button class=\"colab-df-convert\" onclick=\"convertToInteractive('df-05e605c1-b1e6-42c8-8d5c-624a56fb6bff')\"\n",
              "              title=\"Convert this dataframe to an interactive table.\"\n",
              "              style=\"display:none;\">\n",
              "        \n",
              "  <svg xmlns=\"http://www.w3.org/2000/svg\" height=\"24px\"viewBox=\"0 0 24 24\"\n",
              "       width=\"24px\">\n",
              "    <path d=\"M0 0h24v24H0V0z\" fill=\"none\"/>\n",
              "    <path d=\"M18.56 5.44l.94 2.06.94-2.06 2.06-.94-2.06-.94-.94-2.06-.94 2.06-2.06.94zm-11 1L8.5 8.5l.94-2.06 2.06-.94-2.06-.94L8.5 2.5l-.94 2.06-2.06.94zm10 10l.94 2.06.94-2.06 2.06-.94-2.06-.94-.94-2.06-.94 2.06-2.06.94z\"/><path d=\"M17.41 7.96l-1.37-1.37c-.4-.4-.92-.59-1.43-.59-.52 0-1.04.2-1.43.59L10.3 9.45l-7.72 7.72c-.78.78-.78 2.05 0 2.83L4 21.41c.39.39.9.59 1.41.59.51 0 1.02-.2 1.41-.59l7.78-7.78 2.81-2.81c.8-.78.8-2.07 0-2.86zM5.41 20L4 18.59l7.72-7.72 1.47 1.35L5.41 20z\"/>\n",
              "  </svg>\n",
              "      </button>\n",
              "      \n",
              "  <style>\n",
              "    .colab-df-container {\n",
              "      display:flex;\n",
              "      flex-wrap:wrap;\n",
              "      gap: 12px;\n",
              "    }\n",
              "\n",
              "    .colab-df-convert {\n",
              "      background-color: #E8F0FE;\n",
              "      border: none;\n",
              "      border-radius: 50%;\n",
              "      cursor: pointer;\n",
              "      display: none;\n",
              "      fill: #1967D2;\n",
              "      height: 32px;\n",
              "      padding: 0 0 0 0;\n",
              "      width: 32px;\n",
              "    }\n",
              "\n",
              "    .colab-df-convert:hover {\n",
              "      background-color: #E2EBFA;\n",
              "      box-shadow: 0px 1px 2px rgba(60, 64, 67, 0.3), 0px 1px 3px 1px rgba(60, 64, 67, 0.15);\n",
              "      fill: #174EA6;\n",
              "    }\n",
              "\n",
              "    [theme=dark] .colab-df-convert {\n",
              "      background-color: #3B4455;\n",
              "      fill: #D2E3FC;\n",
              "    }\n",
              "\n",
              "    [theme=dark] .colab-df-convert:hover {\n",
              "      background-color: #434B5C;\n",
              "      box-shadow: 0px 1px 3px 1px rgba(0, 0, 0, 0.15);\n",
              "      filter: drop-shadow(0px 1px 2px rgba(0, 0, 0, 0.3));\n",
              "      fill: #FFFFFF;\n",
              "    }\n",
              "  </style>\n",
              "\n",
              "      <script>\n",
              "        const buttonEl =\n",
              "          document.querySelector('#df-05e605c1-b1e6-42c8-8d5c-624a56fb6bff button.colab-df-convert');\n",
              "        buttonEl.style.display =\n",
              "          google.colab.kernel.accessAllowed ? 'block' : 'none';\n",
              "\n",
              "        async function convertToInteractive(key) {\n",
              "          const element = document.querySelector('#df-05e605c1-b1e6-42c8-8d5c-624a56fb6bff');\n",
              "          const dataTable =\n",
              "            await google.colab.kernel.invokeFunction('convertToInteractive',\n",
              "                                                     [key], {});\n",
              "          if (!dataTable) return;\n",
              "\n",
              "          const docLinkHtml = 'Like what you see? Visit the ' +\n",
              "            '<a target=\"_blank\" href=https://colab.research.google.com/notebooks/data_table.ipynb>data table notebook</a>'\n",
              "            + ' to learn more about interactive tables.';\n",
              "          element.innerHTML = '';\n",
              "          dataTable['output_type'] = 'display_data';\n",
              "          await google.colab.output.renderOutput(dataTable, element);\n",
              "          const docLink = document.createElement('div');\n",
              "          docLink.innerHTML = docLinkHtml;\n",
              "          element.appendChild(docLink);\n",
              "        }\n",
              "      </script>\n",
              "    </div>\n",
              "  </div>\n",
              "  "
            ]
          },
          "metadata": {},
          "execution_count": 18
        }
      ]
    },
    {
      "cell_type": "markdown",
      "source": [
        "Criando a função que calculará a distancia (Manhattan) entre dois pontos quaisquer:"
      ],
      "metadata": {
        "id": "4LrhoQyNK0FK"
      }
    },
    {
      "cell_type": "code",
      "source": [
        "def modulo(x):\n",
        "  if(x>=0):\n",
        "    return x\n",
        "  else: \n",
        "    return -x"
      ],
      "metadata": {
        "id": "Clee17exNpxo"
      },
      "execution_count": null,
      "outputs": []
    },
    {
      "cell_type": "code",
      "source": [
        "def calcula_dist(a,b):\n",
        "  d = modulo(a.x-b.x)+modulo(a.y-b.y)\n",
        "  return d"
      ],
      "metadata": {
        "id": "56qnBN6mKlZw"
      },
      "execution_count": null,
      "outputs": []
    },
    {
      "cell_type": "markdown",
      "source": [
        "Criando o array geral dos n pontos:"
      ],
      "metadata": {
        "id": "biFvtmOx5zU-"
      }
    },
    {
      "cell_type": "code",
      "source": [
        "Pontos = []"
      ],
      "metadata": {
        "id": "u1PVQ6n353r3"
      },
      "execution_count": null,
      "outputs": []
    },
    {
      "cell_type": "markdown",
      "source": [
        "Gerando o gráfico base:"
      ],
      "metadata": {
        "id": "5mB4B6Gm13gI"
      }
    },
    {
      "cell_type": "code",
      "source": [
        "from ipywidgets import widget_float\n",
        "sns.relplot(data=df, x='cord_x', y='cord_y', hue='cluster', style='is_centrd')"
      ],
      "metadata": {
        "colab": {
          "base_uri": "https://localhost:8080/",
          "height": 382
        },
        "id": "V44BGZy5VwI8",
        "outputId": "5d99ada2-9c19-4275-b8b7-b8b7c47165ba"
      },
      "execution_count": null,
      "outputs": [
        {
          "output_type": "execute_result",
          "data": {
            "text/plain": [
              "<seaborn.axisgrid.FacetGrid at 0x7f339e74d8b0>"
            ]
          },
          "metadata": {},
          "execution_count": 21
        },
        {
          "output_type": "display_data",
          "data": {
            "text/plain": [
              "<Figure size 431.975x360 with 1 Axes>"
            ],
            "image/png": "[encoded data removed]"
          },
          "metadata": {}
        }
      ]
    },
    {
      "cell_type": "markdown",
      "source": [
        "Definindo quais, dentre esses pontos, serão os centróides (nessa versão os primeiros são fixos e pré-definidos):"
      ],
      "metadata": {
        "id": "Fn_8Dj0X_zUz"
      }
    },
    {
      "cell_type": "code",
      "source": [],
      "metadata": {
        "id": "tyD3Wzub3GqF"
      },
      "execution_count": null,
      "outputs": []
    },
    {
      "cell_type": "markdown",
      "source": [
        "Criando uma função que cria uma lista com os centroides, sejam os definidos inicialmente ou os próximos (A função limpa a lista de centroides a cada vez que for chamada):"
      ],
      "metadata": {
        "id": "A5IvJgRZJ0rh"
      }
    },
    {
      "cell_type": "code",
      "source": [
        "centroides = []"
      ],
      "metadata": {
        "id": "GEatZMqfL_oQ"
      },
      "execution_count": null,
      "outputs": []
    },
    {
      "cell_type": "code",
      "source": [
        "def att_lista_centroides():\n",
        "  centroides.clear()\n",
        "  for p in Pontos:\n",
        "    if(p.centroide==True):\n",
        "      centroides.append(p)\n",
        "      print(f'({p.x},{p.y})')"
      ],
      "metadata": {
        "id": "XYAhqbM5_ytz"
      },
      "execution_count": null,
      "outputs": []
    },
    {
      "cell_type": "code",
      "source": [
        "att_lista_centroides()"
      ],
      "metadata": {
        "colab": {
          "base_uri": "https://localhost:8080/"
        },
        "id": "9rip73nhLl5c",
        "outputId": "893c44cb-f2df-4027-c2b9-d42f1603b3c0"
      },
      "execution_count": null,
      "outputs": [
        {
          "output_type": "stream",
          "name": "stdout",
          "text": [
            "(2,10)\n",
            "(5,8)\n",
            "(1,2)\n"
          ]
        }
      ]
    },
    {
      "cell_type": "markdown",
      "source": [
        "Agora, criaremos uma lista com três listas, representando os três clusteres, que armazenarão os pontos de acordo com os calculos de distância."
      ],
      "metadata": {
        "id": "GSIrz0SlRkfy"
      }
    },
    {
      "cell_type": "code",
      "source": [
        "clust = [[], [], []]"
      ],
      "metadata": {
        "id": "2WPL9cBnSDFp"
      },
      "execution_count": null,
      "outputs": []
    },
    {
      "cell_type": "markdown",
      "source": [
        "Em seguida, separamos os pontos considerando qual centróide está mais perto de cada ponto."
      ],
      "metadata": {
        "id": "5FFjAg_uSmBL"
      }
    },
    {
      "cell_type": "code",
      "source": [
        "for ponto in Pontos:\n",
        "  dist = []\n",
        "  for c in centroides:\n",
        "    d = calcula_dist(c, ponto)\n",
        "    dist.append(d)\n",
        "  print(dist)\n",
        "  index = dist.index(min(dist))\n",
        "  clust[index].append(ponto)\n",
        "  ponto.cluster = index\n"
      ],
      "metadata": {
        "colab": {
          "base_uri": "https://localhost:8080/"
        },
        "id": "bt0oO8X7Tw2W",
        "outputId": "c58b3dba-5ea3-4468-afd7-806521cb58f0"
      },
      "execution_count": null,
      "outputs": [
        {
          "output_type": "stream",
          "name": "stdout",
          "text": [
            "[0, 5, 9]\n",
            "[5, 6, 4]\n",
            "[12, 7, 9]\n",
            "[5, 0, 10]\n",
            "[10, 5, 9]\n",
            "[10, 5, 7]\n",
            "[9, 10, 0]\n",
            "[3, 2, 10]\n"
          ]
        }
      ]
    },
    {
      "cell_type": "code",
      "source": [
        "i = 0\n",
        "for c in clust:\n",
        "  print(f'cluster {i+1}')\n",
        "  for ponto in c:\n",
        "    print(f'({ponto.x},{ponto.y})')\n",
        "  i=i+1"
      ],
      "metadata": {
        "colab": {
          "base_uri": "https://localhost:8080/"
        },
        "id": "XNnGud2P1h1i",
        "outputId": "8430f53b-ce03-4ae3-dc0a-617fd4930c14"
      },
      "execution_count": null,
      "outputs": [
        {
          "output_type": "stream",
          "name": "stdout",
          "text": [
            "cluster 1\n",
            "(2,10)\n",
            "cluster 2\n",
            "(8,4)\n",
            "(5,8)\n",
            "(7,5)\n",
            "(6,4)\n",
            "(4,9)\n",
            "cluster 3\n",
            "(2,5)\n",
            "(1,2)\n"
          ]
        }
      ]
    }
  ]
}